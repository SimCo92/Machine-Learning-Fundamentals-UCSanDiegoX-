{
 "cells": [
  {
   "cell_type": "markdown",
   "metadata": {},
   "source": [
    "# Predicting the progression of diabetes using least-squares regression"
   ]
  },
  {
   "cell_type": "markdown",
   "metadata": {},
   "source": [
    "The **diabetes** data set described in lecture can be obtained as a single file, `diabetes-data.csv`, from the course website. We obtained it at https://web.stanford.edu/~hastie/Papers/LARS/diabetes.data. For some background information on the data, see this seminal paper:\n",
    "\n",
    "Bradley Efron, Trevor Hastie, Iain Johnstone and Robert Tibshirani (2004) \"Least Angle Regression,\" Annals of Statistics (with discussion), 407-499.\n",
    "\n",
    "Before you start on this notebook, install `diabetes-data.csv` in the same directory. We will walk through some of the examples from lecture as well as giving you some problems to solve.\n"
   ]
  },
  {
   "cell_type": "markdown",
   "metadata": {},
   "source": [
    "## 1. Set up notebook and load data set"
   ]
  },
  {
   "cell_type": "code",
   "execution_count": 153,
   "metadata": {},
   "outputs": [],
   "source": [
    "# Standard includes\n",
    "%matplotlib inline\n",
    "import numpy as np\n",
    "import matplotlib\n",
    "import matplotlib.pyplot as plt\n",
    "# Routines for linear regression\n",
    "from sklearn import linear_model\n",
    "from sklearn.metrics import mean_squared_error\n",
    "# Set label size for plots\n",
    "matplotlib.rc('xtick', labelsize=14) \n",
    "matplotlib.rc('ytick', labelsize=14)"
   ]
  },
  {
   "cell_type": "markdown",
   "metadata": {},
   "source": [
    "This next snippet of code loads in the diabetes data. There are 442 data points, each with 10 predictor variables (which we'll denote `x`) and one response variable (which we'll denote `y`).\n",
    "\n",
    "Make sure the file `'diabetes-data.csv'` is in the same directory as this notebook."
   ]
  },
  {
   "cell_type": "code",
   "execution_count": 154,
   "metadata": {},
   "outputs": [],
   "source": [
    "data = np.genfromtxt('diabetes-data.csv', delimiter=',')\n",
    "features = ['age', 'sex', 'body mass index', 'blood pressure', \n",
    "            'serum1', 'serum2', 'serum3', 'serum4', 'serum5', 'serum6']\n",
    "x = data[:,0:10] # predictors\n",
    "y = data[:,10] # response variable"
   ]
  },
  {
   "cell_type": "markdown",
   "metadata": {},
   "source": [
    "## 2. Predict `y` without using `x`"
   ]
  },
  {
   "cell_type": "markdown",
   "metadata": {},
   "source": [
    "If we want to predict `y` without knowledge of `x`, what value would be predict? The <font color=\"magenta\">mean</font> value of `y`.\n",
    "\n",
    "In this case, the mean squared error (MSE) associated with the prediction is simply the variance of `y`."
   ]
  },
  {
   "cell_type": "code",
   "execution_count": 155,
   "metadata": {},
   "outputs": [
    {
     "name": "stdout",
     "output_type": "stream",
     "text": [
      "Prediction:  152.13348416289594\n",
      "Mean squared error:  5929.884896910383\n"
     ]
    }
   ],
   "source": [
    "print(\"Prediction: \", np.mean(y))\n",
    "print(\"Mean squared error: \", np.var(y))"
   ]
  },
  {
   "cell_type": "markdown",
   "metadata": {},
   "source": [
    "## 3. Predict `y` using a single feature of `x`"
   ]
  },
  {
   "cell_type": "markdown",
   "metadata": {},
   "source": [
    "To fit a linear regression model, we could directly use the formula we saw in lecture. To make things even easier, this is already implemented in `sklearn.linear_model.LinearRegression()`."
   ]
  },
  {
   "cell_type": "markdown",
   "metadata": {},
   "source": [
    "Here we define a function, **one_feature_regression**, that takes `x` and `y`, along with the index `f` of a single feature and fits a linear regressor to `(x[f],y)`. It then plots the data along with the resulting line."
   ]
  },
  {
   "cell_type": "code",
   "execution_count": 156,
   "metadata": {},
   "outputs": [],
   "source": [
    "def one_feature_regression(x,y,f):\n",
    "    \n",
    "    # check on input\n",
    "    if (f < 0) or (f > 9):\n",
    "        print(\"Feature index is out of bounds\")\n",
    "        return\n",
    "    # create and fit the model\n",
    "    regr = linear_model.LinearRegression()\n",
    "    x1 = x[:,[f]]\n",
    "    regr.fit(x1, y)\n",
    "    \n",
    "    # Make predictions using the model\n",
    "    y_pred = regr.predict(x1)\n",
    "    \n",
    "    # Plot data points as well as predictions\n",
    "    plt.plot(x1, y, 'bo')\n",
    "    # 'bo' --> booble\n",
    "    plt.plot(x1, y_pred, 'r', linewidth=2)\n",
    "    plt.xlabel(features[f], fontsize=14)\n",
    "    plt.ylabel('Progression of disease', fontsize=14)\n",
    "    plt.show()\n",
    "    print(\"Mean squared error: \", mean_squared_error(y, y_pred))\n",
    "    return regr"
   ]
  },
  {
   "cell_type": "markdown",
   "metadata": {},
   "source": [
    "Let's try this with feature #2 (body mass index)."
   ]
  },
  {
   "cell_type": "code",
   "execution_count": 157,
   "metadata": {},
   "outputs": [
    {
     "data": {
      "image/png": "[encoded data removed]",
      "text/plain": [
       "<Figure size 432x288 with 1 Axes>"
      ]
     },
     "metadata": {
      "needs_background": "light"
     },
     "output_type": "display_data"
    },
    {
     "name": "stdout",
     "output_type": "stream",
     "text": [
      "Mean squared error:  3890.456585461273\n",
      "w =  [10.23312787]\n",
      "b =  -117.77336656656527\n"
     ]
    }
   ],
   "source": [
    "regr = one_feature_regression(x,y,2)\n",
    "print(\"w = \", regr.coef_)\n",
    "print(\"b = \", regr.intercept_)"
   ]
  },
  {
   "cell_type": "markdown",
   "metadata": {},
   "source": [
    "<font color=\"magenta\">For you to try:</font> Feature #2 ('body mass index') is the single feature that yields the lowest mean squared error. Which feature is the second best? "
   ]
  },
  {
   "cell_type": "code",
   "execution_count": 158,
   "metadata": {},
   "outputs": [
    {
     "name": "stdout",
     "output_type": "stream",
     "text": [
      "0 5720.5470172056475\n",
      "1 5918.88889958602\n",
      "2 3890.456585461273\n",
      "3 4774.113902368687\n",
      "4 5663.315623739354\n",
      "5 5750.241102677782\n",
      "6 5005.661620710652\n",
      "7 4831.13838643409\n",
      "8 4030.9987225912855\n",
      "9 5062.380594520542\n"
     ]
    }
   ],
   "source": [
    "import pandas as pd\n",
    "\n",
    "def squarederrors(x,y):\n",
    "    regr = linear_model.LinearRegression()\n",
    "    for i,feature in enumerate(range(len(x[0]))):\n",
    "        x1 = x[:,[feature]]\n",
    "        regr.fit(x1, y)\n",
    "        y_pred = regr.predict(x1)\n",
    "        print(i, mean_squared_error(y, y_pred))\n",
    "\n",
    "squarederrors(x,y)\n",
    "# the answer is 8"
   ]
  },
  {
   "cell_type": "markdown",
   "metadata": {},
   "source": [
    "## 3. Predict `y` using a specified subset of features from `x`"
   ]
  },
  {
   "cell_type": "markdown",
   "metadata": {},
   "source": [
    "The function **feature_subset_regression** is just like **one_feature_regression**, but this time uses a list of features `flist`."
   ]
  },
  {
   "cell_type": "code",
   "execution_count": 159,
   "metadata": {},
   "outputs": [],
   "source": [
    "def feature_subset_regression(x,y,flist):\n",
    "    if len(flist) < 1:\n",
    "        print(\"Need at least one feature\")\n",
    "        return\n",
    "    for f in flist:\n",
    "        if (f < 0) or (f > 9):\n",
    "            print(\"Feature index is out of bounds\")\n",
    "            return\n",
    "    regr = linear_model.LinearRegression()\n",
    "    regr.fit(x[:,flist], y)\n",
    "    return regr"
   ]
  },
  {
   "cell_type": "markdown",
   "metadata": {},
   "source": [
    "Try using just features #2 (body mass index) and #8 (serum5)."
   ]
  },
  {
   "cell_type": "code",
   "execution_count": 160,
   "metadata": {},
   "outputs": [
    {
     "name": "stdout",
     "output_type": "stream",
     "text": [
      "w =  [ 7.27600054 56.05638703]\n",
      "b =  -299.95751508023613\n",
      "Mean squared error:  3205.1900768248533\n"
     ]
    }
   ],
   "source": [
    "flist = [2,8]\n",
    "regr = feature_subset_regression(x,y,[2,8])\n",
    "print(\"w = \", regr.coef_)\n",
    "print(\"b = \", regr.intercept_)\n",
    "print(\"Mean squared error: \", mean_squared_error(y, regr.predict(x[:,flist])))"
   ]
  },
  {
   "cell_type": "markdown",
   "metadata": {},
   "source": [
    "Finally, use all 10 features."
   ]
  },
  {
   "cell_type": "code",
   "execution_count": 161,
   "metadata": {},
   "outputs": [
    {
     "name": "stdout",
     "output_type": "stream",
     "text": [
      "w =  [-3.63612242e-02 -2.28596481e+01  5.60296209e+00  1.11680799e+00\n",
      " -1.08999633e+00  7.46450456e-01  3.72004715e-01  6.53383194e+00\n",
      "  6.84831250e+01  2.80116989e-01]\n",
      "b =  -334.5671385187874\n",
      "Mean squared error:  2859.6963475867506\n"
     ]
    }
   ],
   "source": [
    "regr = feature_subset_regression(x,y,range(0,10))\n",
    "print(\"w = \", regr.coef_)\n",
    "print(\"b = \", regr.intercept_)\n",
    "print(\"Mean squared error: \", mean_squared_error(y, regr.predict(x)))"
   ]
  },
  {
   "cell_type": "markdown",
   "metadata": {
    "collapsed": true
   },
   "source": [
    "## 4. Splitting the data into a training and test set"
   ]
  },
  {
   "cell_type": "markdown",
   "metadata": {},
   "source": [
    "In the experiments above, every model was fit to the *entire* data set and its mean squared error was evaluated on this same data set. This methodology would not, in general, yield accurate estimates of future error. In this specific case, however, the discrepancy might not be too bad because the data set is quite large relative to the number of features."
   ]
  },
  {
   "cell_type": "markdown",
   "metadata": {},
   "source": [
    "To investigate this further, we define a procedure **split_data** that partitions the data set into separate training and test sets. It is invoked as follows:\n",
    "\n",
    "* `trainx, trainy, testx, testy = split_data(n_train)`\n",
    "\n",
    "Here:\n",
    "* `n_train` is the desired number of training points\n",
    "* `trainx` and `trainy` are the training points and response values\n",
    "* `testx` and `testy` are the test points and response values\n",
    "\n",
    "The split is done randomly, but the random seed is fixed, and thus the same split is produced if the procedure is called repeatedly with the same `n_train` parameter."
   ]
  },
  {
   "cell_type": "code",
   "execution_count": 162,
   "metadata": {},
   "outputs": [],
   "source": [
    "def split_data(n_train):\n",
    "    if (n_train < 0) or (n_train > 442):\n",
    "        print(\"Invalid number of training points\")\n",
    "        return\n",
    "    np.random.seed(0)\n",
    "    perm = np.random.permutation(442)\n",
    "    training_indices = perm[range(0,n_train)]\n",
    "    test_indices = perm[range(n_train,442)]\n",
    "    trainx = x[training_indices,:]\n",
    "    trainy = y[training_indices]\n",
    "    testx = x[test_indices,:]\n",
    "    testy = y[test_indices]\n",
    "    return trainx, trainy, testx, testy"
   ]
  },
  {
   "cell_type": "markdown",
   "metadata": {},
   "source": [
    "**<font color=\"magenta\">For you to do:</font>** Using the **split_data** procedure to partition the data set, compute the training MSE and test MSE when fitting a regressor to *all* features, for the following training set sizes:\n",
    "* `n_train = 20`\n",
    "* `n_train = 50`\n",
    "* `n_train = 100`\n",
    "* `n_train = 200`"
   ]
  },
  {
   "cell_type": "code",
   "execution_count": 173,
   "metadata": {},
   "outputs": [
    {
     "name": "stdout",
     "output_type": "stream",
     "text": [
      "20 6764.187243690177\n",
      "50 7991.2709729121025\n",
      "100 3583.008511530309\n",
      "200 3028.4720465919345\n"
     ]
    }
   ],
   "source": [
    "def MSE_partitions(partlist):\n",
    "    for n in partlist:\n",
    "        x = split_data(n)[0]\n",
    "        y = split_data(n)[1]\n",
    "        xt = split_data(n)[2]\n",
    "        yt = split_data(n)[3]\n",
    "        regr = linear_model.LinearRegression()\n",
    "        regr.fit(x,y)\n",
    "        predict_yt = regr.predict(xt)\n",
    "        print(n, mean_squared_error(yt, predict_yt))\n",
    "    \n",
    "MSE_partitions([20,50,100,200])"
   ]
  },
  {
   "cell_type": "code",
   "execution_count": null,
   "metadata": {},
   "outputs": [],
   "source": []
  }
 ],
 "metadata": {
  "kernelspec": {
   "display_name": "Python 3",
   "language": "python",
   "name": "python3"
  },
  "language_info": {
   "codemirror_mode": {
    "name": "ipython",
    "version": 3
   },
   "file_extension": ".py",
   "mimetype": "text/x-python",
   "name": "python",
   "nbconvert_exporter": "python",
   "pygments_lexer": "ipython3",
   "version": "3.6.6"
  },
  "toc": {
   "colors": {
    "hover_highlight": "#DAA520",
    "navigate_num": "#000000",
    "navigate_text": "#333333",
    "running_highlight": "#FF0000",
    "selected_highlight": "#FFD700",
    "sidebar_border": "#EEEEEE",
    "wrapper_background": "#FFFFFF"
   },
   "moveMenuLeft": true,
   "nav_menu": {
    "height": "12px",
    "width": "252px"
   },
   "navigate_menu": true,
   "number_sections": false,
   "sideBar": true,
   "threshold": 4,
   "toc_cell": false,
   "toc_section_display": "block",
   "toc_window_display": false,
   "widenNotebook": false
  }
 },
 "nbformat": 4,
 "nbformat_minor": 2
}
